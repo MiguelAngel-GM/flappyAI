{
 "cells": [
  {
   "cell_type": "code",
   "execution_count": null,
   "metadata": {},
   "outputs": [],
   "source": [
    "import numpy as np\n",
    "from sklearn.linear_model import Perceptron, LogisticRegression\n",
    "from sklearn.model_selection import train_test_split, GridSearchCV\n",
    "from sklearn.preprocessing import MinMaxScaler\n",
    "from sklearn.metrics import confusion_matrix, ConfusionMatrixDisplay\n",
    "import pandas as pd\n",
    "import matplotlib.pyplot as plt"
   ]
  },
  {
   "cell_type": "code",
   "execution_count": null,
   "metadata": {},
   "outputs": [],
   "source": [
    "def load_data():\n",
    "    df = pd.read_csv('data.csv')\n",
    "    df = df.drop_duplicates()\n",
    "\n",
    "    inputs = df.iloc[:, :4]\n",
    "    targets = df['action']\n",
    "\n",
    "    scaler = MinMaxScaler((-1, 1))\n",
    "    scaled_inputs = scaler.fit_transform(inputs)\n",
    "\n",
    "    return scaled_inputs, targets"
   ]
  },
  {
   "cell_type": "code",
   "execution_count": null,
   "metadata": {},
   "outputs": [],
   "source": [
    "def save_model(model, activation_func):\n",
    "\n",
    "    parameters = np.append(model.coef_[0, :], model.intercept_[0])\n",
    "\n",
    "    with open('model.txt', 'w') as f:\n",
    "        f.write(','.join(str(parameter) for parameter in parameters))\n",
    "        f.write(',' + activation_func)"
   ]
  },
  {
   "cell_type": "code",
   "execution_count": null,
   "metadata": {},
   "outputs": [],
   "source": [
    "X, y = load_data()\n",
    "\n",
    "X_train, X_test, y_train, y_test = train_test_split(X, y, random_state=123)"
   ]
  },
  {
   "attachments": {},
   "cell_type": "markdown",
   "metadata": {},
   "source": [
    "# Perceptron"
   ]
  },
  {
   "cell_type": "code",
   "execution_count": null,
   "metadata": {},
   "outputs": [],
   "source": [
    "perceptron = Perceptron(random_state=0)\n",
    "params = {'eta0': [0.5, 0.7, 1], 'penalty': ['l2', 'l1', 'elasticnet', None], 'fit_intercept': [True, False]}\n",
    "\n",
    "models = GridSearchCV(perceptron, params)\n",
    "models.fit(X_train, y_train)\n",
    "\n",
    "perceptron_best = models.best_estimator_\n",
    "\n",
    "print('Best model found has the following parameters:', models.best_params_)\n",
    "\n",
    "print('Accuracy:', perceptron_best.score(X_test, y_test))\n",
    "\n",
    "conf_mat = confusion_matrix(perceptron_best.predict(X_test), y_test)\n",
    "disp = ConfusionMatrixDisplay(confusion_matrix=conf_mat, display_labels=perceptron_best.classes_)\n",
    "disp.plot()\n",
    "plt.title('Confusion Matrix')\n",
    "plt.show()"
   ]
  },
  {
   "cell_type": "code",
   "execution_count": null,
   "metadata": {},
   "outputs": [],
   "source": [
    "save_model(perceptron_best, 'step')"
   ]
  },
  {
   "attachments": {},
   "cell_type": "markdown",
   "metadata": {},
   "source": [
    "# Logistic Regression"
   ]
  },
  {
   "cell_type": "code",
   "execution_count": null,
   "metadata": {},
   "outputs": [],
   "source": [
    "log_reg = LogisticRegression(random_state=0)\n",
    "params = {'penalty': ['l2', None], 'fit_intercept': [True, False]}\n",
    "\n",
    "models = GridSearchCV(log_reg, params)\n",
    "models.fit(X_train, y_train)\n",
    "\n",
    "log_reg_best = models.best_estimator_\n",
    "\n",
    "print('Best model found has the following parameters:', models.best_params_)\n",
    "\n",
    "print('Accuracy:', log_reg_best.score(X_test, y_test))\n",
    "\n",
    "conf_mat = confusion_matrix(log_reg_best.predict(X_test), y_test)\n",
    "disp = ConfusionMatrixDisplay(confusion_matrix=conf_mat, display_labels=log_reg_best.classes_)\n",
    "disp.plot()\n",
    "plt.title('Confusion Matrix')\n",
    "plt.show()"
   ]
  },
  {
   "cell_type": "code",
   "execution_count": null,
   "metadata": {},
   "outputs": [],
   "source": [
    "save_model(log_reg_best, 'sigmoid')"
   ]
  }
 ],
 "metadata": {
  "kernelspec": {
   "display_name": "base",
   "language": "python",
   "name": "python3"
  },
  "language_info": {
   "codemirror_mode": {
    "name": "ipython",
    "version": 3
   },
   "file_extension": ".py",
   "mimetype": "text/x-python",
   "name": "python",
   "nbconvert_exporter": "python",
   "pygments_lexer": "ipython3",
   "version": "3.9.16"
  },
  "orig_nbformat": 4
 },
 "nbformat": 4,
 "nbformat_minor": 2
}
