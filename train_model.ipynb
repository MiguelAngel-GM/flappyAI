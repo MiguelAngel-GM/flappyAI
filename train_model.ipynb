{
 "cells": [
  {
   "cell_type": "code",
   "execution_count": 86,
   "metadata": {},
   "outputs": [],
   "source": [
    "import numpy as np\n",
    "from sklearn.linear_model import Perceptron, LogisticRegression\n",
    "from sklearn.model_selection import train_test_split"
   ]
  },
  {
   "cell_type": "code",
   "execution_count": 87,
   "metadata": {},
   "outputs": [],
   "source": [
    "def load_data():\n",
    "    data = np.genfromtxt('data.csv', delimiter=',', skip_header=True)\n",
    "\n",
    "    X = data[:, :4]\n",
    "    y = data[:, 4]\n",
    "\n",
    "    return X, y"
   ]
  },
  {
   "cell_type": "code",
   "execution_count": 88,
   "metadata": {},
   "outputs": [],
   "source": [
    "def save_model(model):\n",
    "\n",
    "    parameters = np.append(model.coef_[0, :], model.intercept_[0])\n",
    "\n",
    "    with open('model.txt', 'w') as f:\n",
    "        f.write(','.join(str(parameter) for parameter in parameters))"
   ]
  },
  {
   "cell_type": "code",
   "execution_count": 92,
   "metadata": {},
   "outputs": [],
   "source": [
    "X, y = load_data()\n",
    "\n",
    "X_train, X_test, y_train, y_test = train_test_split(X, y, random_state=123)"
   ]
  },
  {
   "cell_type": "code",
   "execution_count": 94,
   "metadata": {},
   "outputs": [
    {
     "name": "stdout",
     "output_type": "stream",
     "text": [
      "0.7683363148479427\n"
     ]
    }
   ],
   "source": [
    "perceptron = Perceptron(penalty='l2')\n",
    "\n",
    "perceptron.fit(X_train, y_train)\n",
    "\n",
    "print(perceptron.score(X_test, y_test))\n",
    "\n",
    "save_model(perceptron)"
   ]
  }
 ],
 "metadata": {
  "kernelspec": {
   "display_name": "base",
   "language": "python",
   "name": "python3"
  },
  "language_info": {
   "codemirror_mode": {
    "name": "ipython",
    "version": 3
   },
   "file_extension": ".py",
   "mimetype": "text/x-python",
   "name": "python",
   "nbconvert_exporter": "python",
   "pygments_lexer": "ipython3",
   "version": "3.9.16"
  },
  "orig_nbformat": 4
 },
 "nbformat": 4,
 "nbformat_minor": 2
}
